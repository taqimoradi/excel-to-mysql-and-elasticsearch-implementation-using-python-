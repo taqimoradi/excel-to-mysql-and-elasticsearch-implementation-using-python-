{
 "cells": [
  {
   "cell_type": "markdown",
   "metadata": {},
   "source": [
    "in this project I am going to read an excel file and write the data in to mysql or any other DBMS using python .\n",
    "after that I create an elasticsearch and upload the MySql data to elasticsearch."
   ]
  },
  {
   "cell_type": "code",
   "execution_count": null,
   "metadata": {},
   "outputs": [],
   "source": [
    "#pip install mysql-connector #to install mysql-connnectors   "
   ]
  },
  {
   "cell_type": "code",
   "execution_count": 23,
   "metadata": {},
   "outputs": [],
   "source": [
    "#importing libraries\n",
    "import mysql.connector as connection  \n",
    "import xlrd\n",
    "import pandas as pd"
   ]
  },
  {
   "cell_type": "code",
   "execution_count": 14,
   "metadata": {},
   "outputs": [],
   "source": [
    "#reading the excel files which have to sheet in a single excel book\n",
    "book = xlrd.open_workbook(\"beginner_assignment.xlsx\")\n",
    "sheet = book.sheet_by_name(\"group_listing\")\n",
    "sheet1 = book.sheet_by_name(\"product_listing\")"
   ]
  },
  {
   "cell_type": "code",
   "execution_count": 15,
   "metadata": {},
   "outputs": [],
   "source": [
    "conn = connection.connect(host = \"localhost\", user = \"root\",password=\"\")  #connection string to mysql database\n",
    "cursor = conn.cursor(buffered=True,dictionary=True)\n",
    "#------------- here we are creating the database(assignment) in and the tables in side our database\n",
    "try:  \n",
    "    cursor.execute('CREATE DATABASE IF NOT EXISTS assignment')\n",
    "    cursor.execute('USE assignment')\n",
    "    cursor.execute(\"create table IF NOT EXISTS group_listing(groupName varchar(30) primary key, groupDescription varchar(30) not null , isActive varchar(5) not null)\")  \n",
    "    cursor.execute(\"create table IF NOT EXISTS product_listing(productName varchar(30) not null, modelName varchar(30) not null , productSerialNo varchar(30) not null, groupAssociated varchar(30) not null,productMRP varchar(30) not null   , FOREIGN KEY(groupAssociated) REFERENCES group_listing(groupName))\")  \n",
    "except:\n",
    "    conn.rollback()\n",
    "# conn.close()  "
   ]
  },
  {
   "cell_type": "code",
   "execution_count": 10,
   "metadata": {},
   "outputs": [],
   "source": [
    "#---------------- write the sql query to insert values which is read from excel file\n",
    "query = \"\"\"INSERT INTO group_listing (groupName, groupDescription, isActive) VALUES (%s, %s, %s)\"\"\"\n",
    "query1 = \"\"\"INSERT INTO product_listing (productName, modelName, productSerialNo, groupAssociated, productMRP) VALUES (%s, %s, %s, %s, %s)\"\"\"\n",
    "for r in range(1, sheet.nrows):\n",
    "    groupName= sheet.cell(r,0).value\n",
    "    groupDescription= sheet.cell(r,1).value\n",
    "    isActive= sheet.cell(r,2).value\n",
    "    values = (groupName, groupDescription, isActive)\n",
    "    # Execute sql Query\n",
    "    cursor.execute(query, values)\n",
    "    \n",
    "for r1 in range(1, sheet1.nrows):\n",
    "    productName= sheet1.cell(r,0).value\n",
    "    modelName= sheet1.cell(r,1).value\n",
    "    productSerialNo= sheet1.cell(r,2).value\n",
    "    groupAssociated= sheet1.cell(r,3).value\n",
    "    productMRP = sheet1.cell(r,4).value\n",
    "    values1 = (productName,modelName, productSerialNo,groupAssociated,productMRP)\n",
    "    # Execute sql Query\n",
    "    cursor.execute(query1, values1)\n",
    "    \n",
    "# Close the cursor\n",
    "cursor.close()\n",
    "\n",
    "# Commit the transaction\n",
    "conn.commit()\n",
    "\n",
    "# Close the database connection\n"
   ]
  },
  {
   "cell_type": "code",
   "execution_count": 20,
   "metadata": {},
   "outputs": [],
   "source": [
    "# task2  creating the Elasticsearch"
   ]
  },
  {
   "cell_type": "code",
   "execution_count": 22,
   "metadata": {},
   "outputs": [],
   "source": [
    "#first of all we have to install elastic search library\n",
    "#pip install elasticsearch"
   ]
  },
  {
   "cell_type": "code",
   "execution_count": 24,
   "metadata": {},
   "outputs": [],
   "source": [
    "from elasticsearch import "
   ]
  },
  {
   "cell_type": "code",
   "execution_count": 34,
   "metadata": {},
   "outputs": [],
   "source": [
    "# here I create the elasticsearch in this server . but you can create on local server also as you have to give the host name and port number\n",
    "es = Elasticsearch('http://101.53.136.181:9200')"
   ]
  },
  {
   "cell_type": "code",
   "execution_count": 28,
   "metadata": {},
   "outputs": [
    {
     "data": {
      "text/plain": [
       "{'error': {'root_cause': [{'type': 'resource_already_exists_exception',\n",
       "    'reason': 'index [assignment/Jbl0VB44SfKCSKq9ES1gMA] already exists',\n",
       "    'index_uuid': 'Jbl0VB44SfKCSKq9ES1gMA',\n",
       "    'index': 'assignment'}],\n",
       "  'type': 'resource_already_exists_exception',\n",
       "  'reason': 'index [assignment/Jbl0VB44SfKCSKq9ES1gMA] already exists',\n",
       "  'index_uuid': 'Jbl0VB44SfKCSKq9ES1gMA',\n",
       "  'index': 'assignment'},\n",
       " 'status': 400}"
      ]
     },
     "execution_count": 28,
     "metadata": {},
     "output_type": "execute_result"
    }
   ],
   "source": [
    "es.indices.create(index='assignment' , ignore=400) # creating the index in elasticsearch"
   ]
  },
  {
   "cell_type": "code",
   "execution_count": 30,
   "metadata": {},
   "outputs": [
    {
     "data": {
      "text/plain": [
       "True"
      ]
     },
     "execution_count": 30,
     "metadata": {},
     "output_type": "execute_result"
    }
   ],
   "source": [
    "es.indices.exists(index='assignment') #checking for exisitance of index in elasticsearch if the index exist the out put will be true"
   ]
  },
  {
   "cell_type": "code",
   "execution_count": 31,
   "metadata": {},
   "outputs": [],
   "source": [
    "#selecting data from Mysql and inserting them to elasticsearch using the index which we created above \n",
    "try:\n",
    "    cursor.execute('select * from group_listing')\n",
    "    result = cursor.fetchall()\n",
    "    counter=1\n",
    "    for x in result:\n",
    "        es.index(index='assignment' , doc_type='places' , id=counter , body=x)\n",
    "        counter=counter+1\n",
    "except:\n",
    "    conn.rollback()\n",
    "    "
   ]
  },
  {
   "cell_type": "code",
   "execution_count": 33,
   "metadata": {},
   "outputs": [
    {
     "data": {
      "text/plain": [
       "{'_index': 'assignment',\n",
       " '_type': 'places',\n",
       " '_id': '2',\n",
       " '_version': 1,\n",
       " 'found': True,\n",
       " '_source': {'groupName': 'Group 2',\n",
       "  'groupDescription': 'Group Number 2',\n",
       "  'isActive': 'yes'}}"
      ]
     },
     "execution_count": 33,
     "metadata": {},
     "output_type": "execute_result"
    }
   ],
   "source": [
    "# searching the value from elasticsearch as we have already inserted \n",
    "res = es.get(index='assignment' , doc_type=\"places\" , id=2)\n",
    "res"
   ]
  },
  {
   "cell_type": "code",
   "execution_count": null,
   "metadata": {},
   "outputs": [],
   "source": []
  }
 ],
 "metadata": {
  "kernelspec": {
   "display_name": "Python 3",
   "language": "python",
   "name": "python3"
  },
  "language_info": {
   "codemirror_mode": {
    "name": "ipython",
    "version": 3
   },
   "file_extension": ".py",
   "mimetype": "text/x-python",
   "name": "python",
   "nbconvert_exporter": "python",
   "pygments_lexer": "ipython3",
   "version": "3.7.3"
  }
 },
 "nbformat": 4,
 "nbformat_minor": 2
}
